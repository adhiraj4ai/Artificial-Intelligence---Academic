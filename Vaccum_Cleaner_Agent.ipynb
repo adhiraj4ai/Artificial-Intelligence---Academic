{
  "nbformat": 4,
  "nbformat_minor": 0,
  "metadata": {
    "colab": {
      "provenance": [],
      "include_colab_link": true
    },
    "kernelspec": {
      "name": "python3",
      "display_name": "Python 3"
    },
    "language_info": {
      "name": "python"
    }
  },
  "cells": [
    {
      "cell_type": "markdown",
      "metadata": {
        "id": "view-in-github",
        "colab_type": "text"
      },
      "source": [
        "<a href=\"https://colab.research.google.com/github/adhiraj4ai/Artificial-Intelligence---Academic/blob/main/Vaccum_Cleaner_Agent.ipynb\" target=\"_parent\"><img src=\"https://colab.research.google.com/assets/colab-badge.svg\" alt=\"Open In Colab\"/></a>"
      ]
    },
    {
      "cell_type": "code",
      "execution_count": 3,
      "metadata": {
        "id": "HcTwFdNUfVi1"
      },
      "outputs": [],
      "source": [
        "# Import library\n",
        "import random"
      ]
    },
    {
      "cell_type": "code",
      "source": [
        "class VaccumEnvironment:\n",
        "    \"\"\"\n",
        "    Desc: Environment for Vaccum Cleaner to work on.\n",
        "    \"\"\"\n",
        "    def __init__(self):\n",
        "        # Randomly assign the status of room to clean or dirty\n",
        "        self.status = {\n",
        "            'loc_a': random.choice(['Clean', 'Dirty']),\n",
        "            'loc_b': random.choice(['Clean', 'Dirty'])\n",
        "        }\n",
        "        \n",
        "    def refresh_environments(self, env):\n",
        "        \"\"\"\n",
        "        This function will refresh the environment once the room is cleaned\n",
        "        by the vaccum cleaner.\n",
        "        \"\"\"\n",
        "        if env == \"loc_a\":\n",
        "            self.status = {\n",
        "                'loc_a': random.choice(['Clean', 'Dirty'])\n",
        "                }\n",
        "        elif env == \"loc_b\":\n",
        "            self.status = {\n",
        "                'loc_b': random.choice(['Clean', 'Dirty'])\n",
        "            }\n",
        "        else:\n",
        "            self.status = {\n",
        "                'loc_a': random.choice(['Clean', 'Dirty']),\n",
        "                'loc_b': random.choice(['Clean', 'Dirty'])\n",
        "            }\n",
        "      "
      ],
      "metadata": {
        "id": "VvC09uCvfWIG"
      },
      "execution_count": 4,
      "outputs": []
    },
    {
      "cell_type": "code",
      "source": [
        "class Agent:\n",
        "    \"\"\"\n",
        "    Class for Agent to logically group related attributes\n",
        "    \"\"\"\n",
        "    def __init__(self):\n",
        "        self.agent_status = 'active'\n",
        "        self.location = random.choice(['loc_a', 'loc_b'])\n",
        "        self.env = VaccumEnvironment()\n",
        "        self.cost = 0\n",
        "    \n",
        "    def action_suck(self):\n",
        "        self.percept('suck')\n",
        "        self.env.status[self.location] = 'Clean'\n",
        "        self.cost = self.cost + 1    \n",
        "        \n",
        "    def action_move(self, direction):\n",
        "        self.percept(direction)\n",
        "        if(direction == 'left'):\n",
        "            self.location = 'loc_a'\n",
        "        else:\n",
        "            self.location = 'loc_b'\n",
        "        \n",
        "        # Update cost for the action\n",
        "        self.cost = self.cost + 1\n",
        "            \n",
        "    def percept(self, action):\n",
        "        print (\"Percept: \", tuple([self.location, action]))\n",
        "        \n",
        "    \n",
        "    def take_action(self):\n",
        "        if(self.location == 'loc_a'):\n",
        "            if self.env.status['loc_a'] == 'Dirty':\n",
        "                print(\"Environment A is dirty.\")\n",
        "                self.action_suck()\n",
        "                print(\"After suck:\", self.cost)\n",
        "                self.action_move('right')\n",
        "                self.env.refresh_environments(\"A\")\n",
        "                print(\"After moving right\", self.cost)\n",
        "                print(\"---------------------------\")\n",
        "                \n",
        "            else:\n",
        "                print(\"Environment A is clean\")\n",
        "                self.action_move('right')\n",
        "                print(\"After moving right\", self.cost)\n",
        "                \n",
        "        elif(self.location == 'loc_b'):\n",
        "            if self.env.status['loc_b'] == 'Dirty':\n",
        "                print(\"Environment B is dirty.\")\n",
        "                self.action_suck()\n",
        "                print(\"After suck:\", self.cost)\n",
        "                self.action_move('left')\n",
        "                #Call Refresh environments function.\n",
        "                self.env.refresh_environments(\"B\")\n",
        "                print(\"After moving left\", self.cost)\n",
        "                print(\"---------------------------\")\n",
        "            else:\n",
        "                print(\"Environment B is clean\")\n",
        "                self.action_move('left')\n",
        "                print(\"After moving left\", self.cost)\n",
        "        else:\n",
        "            print(\"Agent is lost\")"
      ],
      "metadata": {
        "id": "LxrNBNKdfa3D"
      },
      "execution_count": 5,
      "outputs": []
    },
    {
      "cell_type": "code",
      "source": [
        "agent = Agent()\n",
        "\n",
        "# Run for 20 iteration max\n",
        "iterations = 20\n",
        "for i in range(iterations):\n",
        "    # Check if both rooms are clean then agent has no job to do i.e. agent status will be inactive\n",
        "    if agent.env.status['loc_a'] == 'Clean' and agent.env.status['loc_b'] == 'Clean':\n",
        "        print(\"Since both rooms are clean, agent goes inactive\")\n",
        "        agent.agent_status = 'inactive'\n",
        "        break\n",
        "    agent.take_action()"
      ],
      "metadata": {
        "id": "0tNz4ohJfbfA",
        "colab": {
          "base_uri": "https://localhost:8080/"
        },
        "outputId": "c3bbe102-a44f-490e-dcb7-8feaab27369b"
      },
      "execution_count": 7,
      "outputs": [
        {
          "output_type": "stream",
          "name": "stdout",
          "text": [
            "Environment B is dirty.\n",
            "Percept:  ('loc_b', 'suck')\n",
            "After suck: 1\n",
            "Percept:  ('loc_b', 'left')\n",
            "After moving left 2\n",
            "---------------------------\n",
            "Environment A is clean\n",
            "Percept:  ('loc_a', 'right')\n",
            "After moving right 3\n",
            "Environment B is dirty.\n",
            "Percept:  ('loc_b', 'suck')\n",
            "After suck: 4\n",
            "Percept:  ('loc_b', 'left')\n",
            "After moving left 5\n",
            "---------------------------\n",
            "Environment A is dirty.\n",
            "Percept:  ('loc_a', 'suck')\n",
            "After suck: 6\n",
            "Percept:  ('loc_a', 'right')\n",
            "After moving right 7\n",
            "---------------------------\n",
            "Environment B is dirty.\n",
            "Percept:  ('loc_b', 'suck')\n",
            "After suck: 8\n",
            "Percept:  ('loc_b', 'left')\n",
            "After moving left 9\n",
            "---------------------------\n",
            "Since both rooms are clean, agent goes inactive\n"
          ]
        }
      ]
    },
    {
      "cell_type": "code",
      "source": [],
      "metadata": {
        "id": "ISOLd-g6iT_8"
      },
      "execution_count": null,
      "outputs": []
    }
  ]
}